{
 "cells": [
  {
   "cell_type": "code",
   "execution_count": null,
   "id": "6ca8949d",
   "metadata": {
    "scrolled": false
   },
   "outputs": [
    {
     "name": "stdout",
     "output_type": "stream",
     "text": [
      " * Serving Flask app \"__main__\" (lazy loading)\n",
      " * Environment: production\n",
      "   WARNING: This is a development server. Do not use it in a production deployment.\n",
      "   Use a production WSGI server instead.\n",
      " * Debug mode: on\n"
     ]
    },
    {
     "name": "stderr",
     "output_type": "stream",
     "text": [
      " * Running on http://127.0.0.1:5000/ (Press CTRL+C to quit)\n",
      "127.0.0.1 - - [02/Nov/2022 09:11:27] \"\u001b[37mGET / HTTP/1.1\u001b[0m\" 200 -\n",
      "127.0.0.1 - - [02/Nov/2022 09:11:27] \"\u001b[33mGET /static/js/waypoints.min.js HTTP/1.1\u001b[0m\" 404 -\n",
      "127.0.0.1 - - [02/Nov/2022 09:11:29] \"\u001b[33mGET /favicon.ico HTTP/1.1\u001b[0m\" 404 -\n",
      "127.0.0.1 - - [02/Nov/2022 09:19:16] \"\u001b[37mGET / HTTP/1.1\u001b[0m\" 200 -\n",
      "127.0.0.1 - - [02/Nov/2022 09:19:16] \"\u001b[33mGET /static/js/waypoints.min.js HTTP/1.1\u001b[0m\" 404 -\n",
      "127.0.0.1 - - [02/Nov/2022 09:19:16] \"\u001b[37mGET /static/images/Blog/homeloan.jpg HTTP/1.1\u001b[0m\" 200 -\n",
      "127.0.0.1 - - [02/Nov/2022 09:24:00] \"\u001b[37mGET / HTTP/1.1\u001b[0m\" 200 -\n",
      "127.0.0.1 - - [02/Nov/2022 09:24:00] \"\u001b[37mGET /static/images/Blog/health.jpg HTTP/1.1\u001b[0m\" 200 -\n",
      "127.0.0.1 - - [02/Nov/2022 09:24:00] \"\u001b[33mGET /static/js/waypoints.min.js HTTP/1.1\u001b[0m\" 404 -\n",
      "127.0.0.1 - - [02/Nov/2022 09:27:03] \"\u001b[37mGET / HTTP/1.1\u001b[0m\" 200 -\n",
      "127.0.0.1 - - [02/Nov/2022 09:27:03] \"\u001b[33mGET /static/js/waypoints.min.js HTTP/1.1\u001b[0m\" 404 -\n",
      "127.0.0.1 - - [02/Nov/2022 09:27:22] \"\u001b[37mGET / HTTP/1.1\u001b[0m\" 200 -\n",
      "127.0.0.1 - - [02/Nov/2022 09:27:22] \"\u001b[33mGET /static/js/waypoints.min.js HTTP/1.1\u001b[0m\" 404 -\n",
      "127.0.0.1 - - [02/Nov/2022 09:27:22] \"\u001b[37mGET /static/images/Blog/pension.jpg HTTP/1.1\u001b[0m\" 200 -\n"
     ]
    }
   ],
   "source": [
    "from flask import Flask, render_template\n",
    "\n",
    "app = Flask(__name__)\n",
    "\n",
    "@app.route('/')\n",
    "def bot():\n",
    "    return render_template(\"index.html\")\n",
    "\n",
    "if __name__ == \"__main__\":\n",
    "    app.run(debug=True,use_reloader=False)"
   ]
  },
  {
   "cell_type": "code",
   "execution_count": null,
   "id": "05906cec",
   "metadata": {},
   "outputs": [],
   "source": [
    "\n"
   ]
  },
  {
   "cell_type": "code",
   "execution_count": null,
   "id": "9424eb30",
   "metadata": {},
   "outputs": [],
   "source": []
  },
  {
   "cell_type": "code",
   "execution_count": null,
   "id": "ef67b007",
   "metadata": {},
   "outputs": [],
   "source": []
  }
 ],
 "metadata": {
  "kernelspec": {
   "display_name": "Python 3",
   "language": "python",
   "name": "python3"
  },
  "language_info": {
   "codemirror_mode": {
    "name": "ipython",
    "version": 3
   },
   "file_extension": ".py",
   "mimetype": "text/x-python",
   "name": "python",
   "nbconvert_exporter": "python",
   "pygments_lexer": "ipython3",
   "version": "3.8.8"
  }
 },
 "nbformat": 4,
 "nbformat_minor": 5
}
